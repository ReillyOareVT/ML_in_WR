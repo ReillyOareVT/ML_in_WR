{
  "nbformat": 4,
  "nbformat_minor": 0,
  "metadata": {
    "colab": {
      "provenance": [],
      "include_colab_link": true
    },
    "kernelspec": {
      "name": "python3",
      "display_name": "Python 3"
    },
    "language_info": {
      "name": "python"
    }
  },
  "cells": [
    {
      "cell_type": "markdown",
      "metadata": {
        "id": "view-in-github",
        "colab_type": "text"
      },
      "source": [
        "<a href=\"https://colab.research.google.com/github/ReillyOareVT/ML_in_WR/blob/main/CI_PI_lecture_3_code.ipynb\" target=\"_parent\"><img src=\"https://colab.research.google.com/assets/colab-badge.svg\" alt=\"Open In Colab\"/></a>"
      ]
    },
    {
      "cell_type": "markdown",
      "source": [
        "## Lecture 3, 01/28/2025\n",
        "\n",
        "---\n",
        "\n",
        "Today, we will deal with generating confidence and prediction intervals on sample statistics and observations."
      ],
      "metadata": {
        "id": "iOHe-pn8ROEk"
      }
    },
    {
      "cell_type": "code",
      "execution_count": null,
      "metadata": {
        "id": "g47CTooljneQ"
      },
      "outputs": [],
      "source": [
        "import numpy as np\n",
        "import scipy.stats as stats\n",
        "import matplotlib.pyplot as plt\n",
        "import seaborn as sns\n"
      ]
    },
    {
      "cell_type": "markdown",
      "source": [
        "# Parametric confidence intervals for the mean\n",
        "### We sample chloride from 10 locations in an aquifer\n",
        "The true mean (μ) of 5.0 mg/L and the standard deviation (σ) is 1.0 mg/L.\n",
        "\n",
        "We repeat this sampling 10 times to demonstrate uncertainty in sampling.\n",
        "\n",
        "We want to be 80% ($α$ = 0.20) sure that our sample contains the true mean.\n",
        "\n",
        "Recall that the confidence interval is computed as:\n",
        "\n",
        "$x̄ ± z \\frac{s}{\\sqrt{n}}$\n",
        "\n",
        ", where z is the z-score. This assumes symmetric confidence intervals."
      ],
      "metadata": {
        "id": "vpdW9YjZRyYb"
      }
    },
    {
      "cell_type": "code",
      "source": [
        "# Write out the model parameters\n",
        "population_mean = 5\n",
        "population_std = 1\n",
        "sample_size = 10\n",
        "confidence_level = 0.80\n",
        "num_experiments = 10\n",
        "\n",
        "# Arrays to store results\n",
        "sample_means = []\n",
        "conf_intervals = []\n",
        "\n",
        "# Arrays to store results\n",
        "sample_means = []\n",
        "conf_intervals = []\n",
        "all_samples = []\n",
        "\n",
        "# Conduct replicate experiments\n",
        "for _ in range(num_experiments):\n",
        "    # Draw samples from the normal distribution\n",
        "    samples = np.random.normal(population_mean, population_std, sample_size)\n",
        "    all_samples.append(samples)\n",
        "\n",
        "    # Calculate sample mean\n",
        "    sample_mean = np.mean(samples)\n",
        "    sample_means.append(sample_mean)\n",
        "\n",
        "    # Calculate standard error of the mean\n",
        "    sem = stats.sem(samples)\n",
        "\n",
        "    # Calculate confidence interval\n",
        "    margin_of_error = sem * stats.t.ppf((1 + confidence_level) / 2, sample_size - 1)\n",
        "    conf_interval = (sample_mean - margin_of_error, sample_mean + margin_of_error)\n",
        "    conf_intervals.append(conf_interval)"
      ],
      "metadata": {
        "id": "WOdCNPXhR7AP"
      },
      "execution_count": null,
      "outputs": []
    },
    {
      "cell_type": "markdown",
      "source": [
        "### Data visualization\n",
        "Show the results of the true distribution, true mean, and our estimated confidence intervals from our samples."
      ],
      "metadata": {
        "id": "71Kq3K7wS_RX"
      }
    },
    {
      "cell_type": "code",
      "source": [
        "# Visualization\n",
        "fig, ax = plt.subplots(figsize=(6, 8))\n",
        "# remove borders around figure for cleaner look\n",
        "ax.spines['top'].set_visible(False)\n",
        "ax.spines['right'].set_visible(False)\n",
        "ax.spines['left'].set_visible(False)\n",
        "\n",
        "# Plot normal distribution density at the top\n",
        "x = np.linspace(population_mean - 3*population_std, population_mean + 3*population_std, 1000)\n",
        "y = stats.norm.pdf(x, population_mean, population_std)\n",
        "ax.plot(x, 9 + y * 2.5, color='black')  # Scale density for visibility\n",
        "ax.axvline(population_mean, color='black', linestyle='dashed', linewidth=1.5)\n",
        "ax.text(population_mean, num_experiments + 0.22, '$\\mu$', ha='center', fontsize=9, backgroundcolor='w', color='k')\n",
        "\n",
        "# Plot confidence intervals and samples\n",
        "for i, (mean, (lower, upper), samples) in enumerate(zip(sample_means, conf_intervals, all_samples)):\n",
        "    color = 'blue' if lower <= population_mean <= upper else 'red'\n",
        "    ax.plot([lower, upper], [i, i], color=color, marker='none', markersize=5, zorder = 5)\n",
        "    ax.scatter(sample_means[i], [i], color='black', alpha=1.0, s=15, zorder = 10)\n",
        "    ax.scatter(samples, [i] * len(samples), color='black', alpha=0.2, s=10, zorder = 0)\n",
        "\n",
        "ax.set_yticks(range(num_experiments))\n",
        "ax.set_yticklabels(range(1, num_experiments + 1))\n",
        "ax.set_xlabel('Sample Mean')\n",
        "ax.set_ylabel('Experiment Number')\n",
        "ax.grid(True, axis='y', linestyle='--', alpha=0.7)\n",
        "plt.show()"
      ],
      "metadata": {
        "id": "JS1xnKG2TD-u"
      },
      "execution_count": null,
      "outputs": []
    },
    {
      "cell_type": "markdown",
      "source": [
        "# Non-parametric confidence intervals for the median\n",
        "### We sample nitrate 25 times from a river\n",
        "The values (mg-N/L)are reported in ascending order below:\n",
        "\n",
        "`1.3, 1.5, 1.8, 2.6, 2.8, 3.5, 4.0, 4.8, 8.0, 9.5, 12, 14, 19, 23, 41, 80, 100, 110, 120, 190, 240, 250, 300, 340, 580`\n",
        "\n",
        "First, it may help to show the distribution of the data."
      ],
      "metadata": {
        "id": "smHEdda0DKSY"
      }
    },
    {
      "cell_type": "code",
      "source": [
        "# Define the array of data\n",
        "data = [1.3, 1.5, 1.8, 2.6, 2.8, 3.5, 4.0, 4.8, 8.0, 9.5, 12, 14, 19, 23, 41, 80, 100, 110, 120, 190, 240, 250, 300, 340, 580]\n",
        "\n",
        "# Calculate the natural log of the array to show sublte changes on the skewed part of the distribution\n",
        "log_data = np.log(data)\n",
        "\n",
        "# Create the figure and subplots\n",
        "fig, axes = plt.subplots(1, 2, figsize=(6, 3))\n",
        "\n",
        "# Boxplot for original data\n",
        "axes[0].boxplot(data, vert=True)\n",
        "axes[0].set_title(\"Boxplot of Original Data\")\n",
        "axes[0].set_ylabel(\"Concentration (mg-N/L)\")\n",
        "\n",
        "# Boxplot for log-transformed data\n",
        "axes[1].boxplot(log_data, vert=True)\n",
        "axes[1].set_title(\"Boxplot of Log-Transformed Data\")\n",
        "\n",
        "# Adjust layout and show plot\n",
        "plt.tight_layout()\n",
        "plt.show()\n",
        "\n",
        "print('The sample median is', np.median(data), 'mg-N/L')\n"
      ],
      "metadata": {
        "id": "C9IjKMboDFbh"
      },
      "execution_count": null,
      "outputs": []
    },
    {
      "cell_type": "markdown",
      "source": [
        "## Binomial distribution approach\n",
        "Let's calculate the 95% confidence interval estimate of the median ($c_{50}$) using the binomial distribution approach."
      ],
      "metadata": {
        "id": "aGE7N6IbI9uE"
      }
    },
    {
      "cell_type": "code",
      "source": [
        "# Parameters of binomial\n",
        "p = 0.5  # Probability which equals the median (50th percentile)\n",
        "n = 25   # Size of dataset\n",
        "prob = [0.025, 0.975]  # Desired bounds of cumulative probability (2.5th and 97.5th, which contain 95%)\n",
        "\n",
        "# Calculate the index of the confidence intervals\n",
        "bin_index = stats.binom.ppf(prob, n, p)\n",
        "\n",
        "# Retreive the data value corresponding to the indices\n",
        "lowCI = int(bin_index[0]); highCI = int(bin_index[1]);\n",
        "\n",
        "print('The 95% confidence intervals for the median are:', data[lowCI], 'and', data[highCI], 'mg-N/L')\n"
      ],
      "metadata": {
        "id": "SqkqVYvCI_zH"
      },
      "execution_count": null,
      "outputs": []
    },
    {
      "cell_type": "markdown",
      "source": [
        "## Bootstrapping approach\n",
        "Let's calculate the 95% confidence interval estimate of the median ($c_{50}$) using the bootstrapping approach."
      ],
      "metadata": {
        "id": "5DsZdCRTNmKU"
      }
    },
    {
      "cell_type": "code",
      "source": [
        "# Perform bootstrap sampling to calculate the 95% confidence interval for the median\n",
        "confidence_level = 0.95\n",
        "res = stats.bootstrap((data,), np.median, confidence_level=confidence_level, n_resamples=1000, method='percentile')\n",
        "\n",
        "ci_lower, ci_upper = res.confidence_interval\n",
        "median_estimate = np.median(data)\n",
        "\n",
        "print(f\"95% confidence interval for the median: {ci_lower:.0f} to {ci_upper:.0f} mg-N/L\")"
      ],
      "metadata": {
        "id": "KQiP0fZyN0OE"
      },
      "execution_count": null,
      "outputs": []
    },
    {
      "cell_type": "markdown",
      "source": [
        "### Data visualization\n",
        "Show the results of the process of bootstrapping and the final estimate"
      ],
      "metadata": {
        "id": "GEu9adSsEwXZ"
      }
    },
    {
      "cell_type": "code",
      "source": [
        "# Create subplots\n",
        "fig, axes = plt.subplots(2, 1, figsize=(6, 6), gridspec_kw={'height_ratios': [2, 1]})\n",
        "\n",
        "# Determine x-axis limits\n",
        "x_min = min(min(data), min(bootstrap_samples))\n",
        "x_max = max(max(data), max(bootstrap_samples))\n",
        "\n",
        "# Top subplot: Scatter plot of 10 bootstrap realizations, evenly spaced vertically\n",
        "y_positions = np.linspace(1, 10, 10)\n",
        "for y_pos in y_positions:\n",
        "    sample = np.random.choice(data, size=len(data), replace=True)\n",
        "    sample_median = np.median(sample)\n",
        "    axes[0].scatter(sample, np.full_like(sample, y_pos), edgecolor='black', facecolors='none', alpha=0.5)\n",
        "    axes[0].axvline(sample_median, color='red', linestyle='--', alpha=0.5)\n",
        "\n",
        "axes[0].axvline(np.median(data), color='red', linestyle='--', linewidth=2)\n",
        "axes[0].set_xticks([])\n",
        "axes[0].set_yticks([])\n",
        "axes[0].set_title(\"Example Bootstraps w/ Sample Medians\")\n",
        "axes[0].set_xlim(x_min, x_max)\n",
        "\n",
        "# Bottom subplot: KDE of bootstrap samples using seaborn\n",
        "sns.kdeplot(bootstrap_samples, ax=axes[1], color='black', linewidth=2, linestyle=':', label='KDE')\n",
        "\n",
        "# Confidence interval\n",
        "axes[1].errorbar(np.median(data), 0.04, xerr=[[np.median(data) - ci_lower], [ci_upper - np.median(data)]], fmt='o', color='black',label='95% CI')\n",
        "\n",
        "# Formatting\n",
        "axes[1].set_xticks(np.linspace(x_min, x_max, 6))\n",
        "axes[1].set_yticks([])\n",
        "axes[1].set_title(\"Kernel Density of Bootstrap Medians\")\n",
        "axes[1].set_xlabel(\"Median Values\")\n",
        "axes[1].set_xlim(x_min, x_max)\n",
        "axes[1].legend(loc='upper right')\n",
        "\n",
        "plt.tight_layout()\n",
        "plt.show()"
      ],
      "metadata": {
        "id": "WpDsK84mZmVN"
      },
      "execution_count": null,
      "outputs": []
    }
  ]
}